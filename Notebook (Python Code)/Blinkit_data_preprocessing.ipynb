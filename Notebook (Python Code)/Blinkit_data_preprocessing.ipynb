{
 "cells": [
  {
   "cell_type": "markdown",
   "id": "e6fda2ab-382f-4835-848c-80931621aa75",
   "metadata": {},
   "source": [
    "<h1 style=\"color:#1a237e; background-color:#ffeb3b; padding:10px; border-radius:5px; text-align:center;text-shadow: 2px 2px 5px rgba(0,0,0,0.5);\">\n",
    "   Blinkit Sales Analysis – Data Cleaning & Preprocessing\n",
    "</h1>\n"
   ]
  },
  {
   "cell_type": "markdown",
   "id": "6a58428e-e78c-4f12-8f83-e917c3a1a2a4",
   "metadata": {},
   "source": [
    "<div style=\"background-color:#1e1e2f; color:white; padding:15px; border-radius:10px; font-size:16px;\">\n",
    "\n",
    "  <h2 style=\"color:#ffcc00;\">🚀 Overview</h2>\n",
    "\n",
    "  <p>\n",
    "    This notebook focuses on <b>data cleaning and preprocessing</b> for the \n",
    "    <b>Blinkit Sales Dataset</b>.  \n",
    "    The dataset contains grocery sales transactions including product details, \n",
    "    quantities, prices, customer information, order dates, and delivery status.\n",
    "  </p>\n",
    "\n",
    "  <p>\n",
    "    The goal of this step is to ensure the dataset is ready for analysis and visualization by:\n",
    "  </p>\n",
    "\n",
    "  <ul>\n",
    "    <li>Handling missing values and duplicates</li>\n",
    "    <li>Standardizing column names and data types</li>\n",
    "    <li>Preparing a clean version of the dataset for EDA and Power BI dashboards</li>\n",
    "  </ul>\n",
    "\n",
    "</div>\n",
    "  </ul>\n",
    "\n",
    "</div>\n"
   ]
  },
  {
   "cell_type": "markdown",
   "id": "2c169f91-b64c-4882-9ded-3a2016743dd7",
   "metadata": {},
   "source": [
    "<div style=\"background-color:#1e1e2f; color:white; padding:15px; border-radius:10px; font-size:16px;\">\r\n",
    "\r\n",
    "  <h2 style=\"color:#ff6600;\">📊 Analysis Questions</h2>\r\n",
    "\r\n",
    "  <ul style=\"line-height:1.8;\">\r\n",
    "    <li>Which products or categories have shown a decline in sales performance?</li>\r\n",
    "    <li>Are there specific times of the day or days of the week when sales decrease?</li>\r\n",
    "    <li>What percentage of orders were delayed beyond the promised delivery time?  \r\n",
    "        And is there a relationship between delays and customer satisfaction or repeat purchases?</li>\r\n",
    "  </ul>\r\n",
    "\r\n",
    "</div>\r\n"
   ]
  },
  {
   "cell_type": "markdown",
   "id": "b632b668-4410-4ca8-8fe4-ef7978d75ed5",
   "metadata": {},
   "source": [
    "<h1 style=\"color:lightGreen; font-size:32px; font-weight:bold; background-color:#1C1C1C;padding:10px; border-radius:8px;\">Importing Required Libraries</h1>"
   ]
  },
  {
   "cell_type": "markdown",
   "id": "4fb6f0f9-0567-4406-ba19-822a867e54db",
   "metadata": {},
   "source": [
    "##### <span style=\"color:orange\">Importing required libraries means loading external Python libraries into your script or notebook so you can use their functions and tools."
   ]
  },
  {
   "cell_type": "code",
   "execution_count": 1,
   "id": "54f80377-2bcf-47e9-98cb-dc9523eff969",
   "metadata": {},
   "outputs": [],
   "source": [
    "# Pandas\n",
    "import pandas as pd\n",
    "#matplotlib\n",
    "import matplotlib.pyplot as plt\n",
    "# to display Matplotlib plots directly\n",
    "%matplotlib inline \n",
    "# Seaborn \n",
    "import seaborn as sns"
   ]
  },
  {
   "cell_type": "markdown",
   "id": "e6b24e20-05fd-4d23-bbb4-ac344afefdbd",
   "metadata": {},
   "source": [
    "<h1 style=\"color:lightGreen; font-size:32px; font-weight:bold; background-color:#1C1C1C;padding:10px; border-radius:8px;\">Loading the Dataset</h1>"
   ]
  },
  {
   "cell_type": "markdown",
   "id": "da45021c-1881-4ab2-8ebc-732339d36464",
   "metadata": {},
   "source": [
    "##### <span style=\"color:orange\"> importing data from an external file (such as CSV, Excel, JSON, or SQL) into a Pandas DataFrame so it can be analyzed and processed using Python. "
   ]
  },
  {
   "cell_type": "code",
   "execution_count": 2,
   "id": "b909bf55-8c42-4a63-a7f5-96de7b93f3b0",
   "metadata": {},
   "outputs": [],
   "source": [
    "# Orders Table\n",
    "orders = pd.read_csv('blinkit_orders.csv')\n",
    "# Products Table\n",
    "products = pd.read_csv('blinkit_products.csv')\n",
    "# order_items Table\n",
    "order_items = pd.read_csv('blinkit_order_items.csv')\n",
    "# Customers Table\n",
    "customers = pd.read_csv('blinkit_customers.csv')"
   ]
  },
  {
   "cell_type": "markdown",
   "id": "8a317f9f-567d-4950-b288-57470e395e97",
   "metadata": {},
   "source": [
    "<h2 style=\"color:skyblue; font-size:30px; font-weight:bold; background-color:#2a2a2a; padding:8px; border-radius:6px;\">\n",
    "1-\n",
    "📂 Orders Table\n",
    "</h2>\n",
    "\n",
    "\n",
    "<h1 style=\"color:lightGreen; font-size:25px; font-weight:bold; background-color:#1C1C1C;padding:10px; border-radius:8px;\">Exploring the Data</h1>\n",
    "\n",
    "##### <span style=\"color:orange\"> examining the dataset to understand its structure, quality, and key characteristics before performing analysis."
   ]
  },
  {
   "cell_type": "code",
   "execution_count": 3,
   "id": "8749cdc4-4ec8-4ba2-9335-86183a95aa0c",
   "metadata": {},
   "outputs": [
    {
     "data": {
      "text/html": [
       "<div>\n",
       "<style scoped>\n",
       "    .dataframe tbody tr th:only-of-type {\n",
       "        vertical-align: middle;\n",
       "    }\n",
       "\n",
       "    .dataframe tbody tr th {\n",
       "        vertical-align: top;\n",
       "    }\n",
       "\n",
       "    .dataframe thead th {\n",
       "        text-align: right;\n",
       "    }\n",
       "</style>\n",
       "<table border=\"1\" class=\"dataframe\">\n",
       "  <thead>\n",
       "    <tr style=\"text-align: right;\">\n",
       "      <th></th>\n",
       "      <th>order_id</th>\n",
       "      <th>customer_id</th>\n",
       "      <th>order_date</th>\n",
       "      <th>promised_delivery_time</th>\n",
       "      <th>actual_delivery_time</th>\n",
       "      <th>delivery_status</th>\n",
       "      <th>order_total</th>\n",
       "      <th>payment_method</th>\n",
       "      <th>delivery_partner_id</th>\n",
       "      <th>store_id</th>\n",
       "    </tr>\n",
       "  </thead>\n",
       "  <tbody>\n",
       "    <tr>\n",
       "      <th>0</th>\n",
       "      <td>1961864118</td>\n",
       "      <td>30065862</td>\n",
       "      <td>2024-07-17 08:34:01</td>\n",
       "      <td>2024-07-17 08:52:01</td>\n",
       "      <td>2024-07-17 08:47:01</td>\n",
       "      <td>On Time</td>\n",
       "      <td>3197.07</td>\n",
       "      <td>Cash</td>\n",
       "      <td>63230</td>\n",
       "      <td>4771</td>\n",
       "    </tr>\n",
       "    <tr>\n",
       "      <th>1</th>\n",
       "      <td>1549769649</td>\n",
       "      <td>9573071</td>\n",
       "      <td>2024-05-28 13:14:29</td>\n",
       "      <td>2024-05-28 13:25:29</td>\n",
       "      <td>2024-05-28 13:27:29</td>\n",
       "      <td>On Time</td>\n",
       "      <td>976.55</td>\n",
       "      <td>Cash</td>\n",
       "      <td>14983</td>\n",
       "      <td>7534</td>\n",
       "    </tr>\n",
       "    <tr>\n",
       "      <th>2</th>\n",
       "      <td>9185164487</td>\n",
       "      <td>45477575</td>\n",
       "      <td>2024-09-23 13:07:12</td>\n",
       "      <td>2024-09-23 13:25:12</td>\n",
       "      <td>2024-09-23 13:29:12</td>\n",
       "      <td>On Time</td>\n",
       "      <td>839.05</td>\n",
       "      <td>UPI</td>\n",
       "      <td>39859</td>\n",
       "      <td>9886</td>\n",
       "    </tr>\n",
       "    <tr>\n",
       "      <th>3</th>\n",
       "      <td>9644738826</td>\n",
       "      <td>88067569</td>\n",
       "      <td>2023-11-24 16:16:56</td>\n",
       "      <td>2023-11-24 16:34:56</td>\n",
       "      <td>2023-11-24 16:33:56</td>\n",
       "      <td>On Time</td>\n",
       "      <td>440.23</td>\n",
       "      <td>Card</td>\n",
       "      <td>61497</td>\n",
       "      <td>7917</td>\n",
       "    </tr>\n",
       "    <tr>\n",
       "      <th>4</th>\n",
       "      <td>5427684290</td>\n",
       "      <td>83298567</td>\n",
       "      <td>2023-11-20 05:00:39</td>\n",
       "      <td>2023-11-20 05:17:39</td>\n",
       "      <td>2023-11-20 05:18:39</td>\n",
       "      <td>On Time</td>\n",
       "      <td>2526.68</td>\n",
       "      <td>Cash</td>\n",
       "      <td>84315</td>\n",
       "      <td>2741</td>\n",
       "    </tr>\n",
       "  </tbody>\n",
       "</table>\n",
       "</div>"
      ],
      "text/plain": [
       "     order_id  customer_id           order_date promised_delivery_time  \\\n",
       "0  1961864118     30065862  2024-07-17 08:34:01    2024-07-17 08:52:01   \n",
       "1  1549769649      9573071  2024-05-28 13:14:29    2024-05-28 13:25:29   \n",
       "2  9185164487     45477575  2024-09-23 13:07:12    2024-09-23 13:25:12   \n",
       "3  9644738826     88067569  2023-11-24 16:16:56    2023-11-24 16:34:56   \n",
       "4  5427684290     83298567  2023-11-20 05:00:39    2023-11-20 05:17:39   \n",
       "\n",
       "  actual_delivery_time delivery_status  order_total payment_method  \\\n",
       "0  2024-07-17 08:47:01         On Time      3197.07           Cash   \n",
       "1  2024-05-28 13:27:29         On Time       976.55           Cash   \n",
       "2  2024-09-23 13:29:12         On Time       839.05            UPI   \n",
       "3  2023-11-24 16:33:56         On Time       440.23           Card   \n",
       "4  2023-11-20 05:18:39         On Time      2526.68           Cash   \n",
       "\n",
       "   delivery_partner_id  store_id  \n",
       "0                63230      4771  \n",
       "1                14983      7534  \n",
       "2                39859      9886  \n",
       "3                61497      7917  \n",
       "4                84315      2741  "
      ]
     },
     "execution_count": 3,
     "metadata": {},
     "output_type": "execute_result"
    }
   ],
   "source": [
    "# Show The first 5 raws\n",
    "orders.head(5)"
   ]
  },
  {
   "cell_type": "code",
   "execution_count": 4,
   "id": "4f3b4de1-4c83-4c4a-aa2e-a6b0dd2686c1",
   "metadata": {},
   "outputs": [
    {
     "name": "stdout",
     "output_type": "stream",
     "text": [
      "<class 'pandas.core.frame.DataFrame'>\n",
      "RangeIndex: 5000 entries, 0 to 4999\n",
      "Data columns (total 10 columns):\n",
      " #   Column                  Non-Null Count  Dtype  \n",
      "---  ------                  --------------  -----  \n",
      " 0   order_id                5000 non-null   int64  \n",
      " 1   customer_id             5000 non-null   int64  \n",
      " 2   order_date              5000 non-null   object \n",
      " 3   promised_delivery_time  5000 non-null   object \n",
      " 4   actual_delivery_time    5000 non-null   object \n",
      " 5   delivery_status         5000 non-null   object \n",
      " 6   order_total             5000 non-null   float64\n",
      " 7   payment_method          5000 non-null   object \n",
      " 8   delivery_partner_id     5000 non-null   int64  \n",
      " 9   store_id                5000 non-null   int64  \n",
      "dtypes: float64(1), int64(4), object(5)\n",
      "memory usage: 390.8+ KB\n"
     ]
    }
   ],
   "source": [
    "# Check data types and missing values\n",
    "orders.info()"
   ]
  },
  {
   "cell_type": "code",
   "execution_count": 5,
   "id": "1ea322e9-a5a4-4013-bfe0-49d00c5d1794",
   "metadata": {},
   "outputs": [
    {
     "data": {
      "text/html": [
       "<div>\n",
       "<style scoped>\n",
       "    .dataframe tbody tr th:only-of-type {\n",
       "        vertical-align: middle;\n",
       "    }\n",
       "\n",
       "    .dataframe tbody tr th {\n",
       "        vertical-align: top;\n",
       "    }\n",
       "\n",
       "    .dataframe thead th {\n",
       "        text-align: right;\n",
       "    }\n",
       "</style>\n",
       "<table border=\"1\" class=\"dataframe\">\n",
       "  <thead>\n",
       "    <tr style=\"text-align: right;\">\n",
       "      <th></th>\n",
       "      <th>order_id</th>\n",
       "      <th>customer_id</th>\n",
       "      <th>order_total</th>\n",
       "      <th>delivery_partner_id</th>\n",
       "      <th>store_id</th>\n",
       "    </tr>\n",
       "  </thead>\n",
       "  <tbody>\n",
       "    <tr>\n",
       "      <th>count</th>\n",
       "      <td>5.000000e+03</td>\n",
       "      <td>5.000000e+03</td>\n",
       "      <td>5000.00000</td>\n",
       "      <td>5000.000000</td>\n",
       "      <td>5000.000000</td>\n",
       "    </tr>\n",
       "    <tr>\n",
       "      <th>mean</th>\n",
       "      <td>5.029129e+09</td>\n",
       "      <td>5.009685e+07</td>\n",
       "      <td>2201.86170</td>\n",
       "      <td>50050.318200</td>\n",
       "      <td>4999.689000</td>\n",
       "    </tr>\n",
       "    <tr>\n",
       "      <th>std</th>\n",
       "      <td>2.863533e+09</td>\n",
       "      <td>2.919082e+07</td>\n",
       "      <td>1303.02438</td>\n",
       "      <td>28802.276922</td>\n",
       "      <td>2886.089242</td>\n",
       "    </tr>\n",
       "    <tr>\n",
       "      <th>min</th>\n",
       "      <td>6.046500e+04</td>\n",
       "      <td>3.181300e+04</td>\n",
       "      <td>13.25000</td>\n",
       "      <td>43.000000</td>\n",
       "      <td>1.000000</td>\n",
       "    </tr>\n",
       "    <tr>\n",
       "      <th>25%</th>\n",
       "      <td>2.531421e+09</td>\n",
       "      <td>2.404314e+07</td>\n",
       "      <td>1086.21500</td>\n",
       "      <td>24928.500000</td>\n",
       "      <td>2509.250000</td>\n",
       "    </tr>\n",
       "    <tr>\n",
       "      <th>50%</th>\n",
       "      <td>5.074378e+09</td>\n",
       "      <td>4.997808e+07</td>\n",
       "      <td>2100.69000</td>\n",
       "      <td>50262.500000</td>\n",
       "      <td>4987.000000</td>\n",
       "    </tr>\n",
       "    <tr>\n",
       "      <th>75%</th>\n",
       "      <td>7.488579e+09</td>\n",
       "      <td>7.621215e+07</td>\n",
       "      <td>3156.88250</td>\n",
       "      <td>74478.250000</td>\n",
       "      <td>7500.750000</td>\n",
       "    </tr>\n",
       "    <tr>\n",
       "      <th>max</th>\n",
       "      <td>9.998298e+09</td>\n",
       "      <td>9.989390e+07</td>\n",
       "      <td>6721.46000</td>\n",
       "      <td>99968.000000</td>\n",
       "      <td>9995.000000</td>\n",
       "    </tr>\n",
       "  </tbody>\n",
       "</table>\n",
       "</div>"
      ],
      "text/plain": [
       "           order_id   customer_id  order_total  delivery_partner_id  \\\n",
       "count  5.000000e+03  5.000000e+03   5000.00000          5000.000000   \n",
       "mean   5.029129e+09  5.009685e+07   2201.86170         50050.318200   \n",
       "std    2.863533e+09  2.919082e+07   1303.02438         28802.276922   \n",
       "min    6.046500e+04  3.181300e+04     13.25000            43.000000   \n",
       "25%    2.531421e+09  2.404314e+07   1086.21500         24928.500000   \n",
       "50%    5.074378e+09  4.997808e+07   2100.69000         50262.500000   \n",
       "75%    7.488579e+09  7.621215e+07   3156.88250         74478.250000   \n",
       "max    9.998298e+09  9.989390e+07   6721.46000         99968.000000   \n",
       "\n",
       "          store_id  \n",
       "count  5000.000000  \n",
       "mean   4999.689000  \n",
       "std    2886.089242  \n",
       "min       1.000000  \n",
       "25%    2509.250000  \n",
       "50%    4987.000000  \n",
       "75%    7500.750000  \n",
       "max    9995.000000  "
      ]
     },
     "execution_count": 5,
     "metadata": {},
     "output_type": "execute_result"
    }
   ],
   "source": [
    "# Description of the data\n",
    "orders.describe()"
   ]
  },
  {
   "cell_type": "code",
   "execution_count": 6,
   "id": "6e72827e-2e59-4d2a-9460-1787b957f6ee",
   "metadata": {},
   "outputs": [
    {
     "data": {
      "text/plain": [
       "order_id                  0\n",
       "customer_id               0\n",
       "order_date                0\n",
       "promised_delivery_time    0\n",
       "actual_delivery_time      0\n",
       "delivery_status           0\n",
       "order_total               0\n",
       "payment_method            0\n",
       "delivery_partner_id       0\n",
       "store_id                  0\n",
       "dtype: int64"
      ]
     },
     "execution_count": 6,
     "metadata": {},
     "output_type": "execute_result"
    }
   ],
   "source": [
    "# Checks For Missing Values\n",
    "orders.isnull().sum()"
   ]
  },
  {
   "cell_type": "code",
   "execution_count": 7,
   "id": "7818793a-e2a4-497a-a260-5ab44fae0184",
   "metadata": {},
   "outputs": [
    {
     "data": {
      "text/plain": [
       "0"
      ]
     },
     "execution_count": 7,
     "metadata": {},
     "output_type": "execute_result"
    }
   ],
   "source": [
    "# Check for Duplicated Value in primary Key (order_id)\n",
    "orders['order_id'].duplicated().sum()"
   ]
  },
  {
   "cell_type": "code",
   "execution_count": 8,
   "id": "da700992-a84b-41bb-ae91-f12af78e5dfa",
   "metadata": {},
   "outputs": [
    {
     "data": {
      "image/png": "[encoded data removed]",
      "text/plain": [
       "<Figure size 640x480 with 1 Axes>"
      ]
     },
     "metadata": {},
     "output_type": "display_data"
    }
   ],
   "source": [
    "plt.boxplot(orders['order_total'])\n",
    "plt.title(\"Order Total Distribution\")\n",
    "plt.show()"
   ]
  },
  {
   "cell_type": "code",
   "execution_count": 9,
   "id": "a9e1002c-6353-459b-aab6-7b5cc4fef624",
   "metadata": {},
   "outputs": [
    {
     "name": "stdout",
     "output_type": "stream",
     "text": [
      "['Cash' 'UPI' 'Card' 'Wallet']\n",
      "['On Time' 'Slightly Delayed' 'Significantly Delayed']\n"
     ]
    }
   ],
   "source": [
    "print(orders['payment_method'].unique())\n",
    "print(orders['delivery_status'].unique())"
   ]
  },
  {
   "cell_type": "markdown",
   "id": "8348d884-3e76-4ccf-9e7c-a5aa253ff5ec",
   "metadata": {},
   "source": [
    "<h1 style=\"color:#00274D; background-color:#FFD700; padding:10px; border-radius:8px;\">\n",
    "    📌 Featureset Exploration\n",
    "</h1>\n",
    "<ul style=\"color:#00FF7F; font-weight:bold; background-color:#2F2F2F; padding:20px; border-radius:5px;\"> <b>\n",
    "    <li>order_id : Nominal  [Note : Must be object]</li>\n",
    "    <li>customer_id\t : Nominal [Note : Must be object]</li>\n",
    "    <li>order_Date : Date Time [Note : Must be Date Time] </li>\n",
    "    <li>promised_delivery_time : Date Time [Note : Must be Date Time]</li>\n",
    "    <li>actual_delivery_time : Date Time [Note : Must be Date Time]</li>\n",
    "    <li>delivery_status : Nominal</li>\n",
    "    <li>order_total : Ratio</li>\n",
    "    <li>payment_method : Nominal</li>\n",
    "    <li>delivery_partner_id : Nominal  [Note : Must be object]</li>\n",
    "    <li>store_id : Nominal  [Note : Must be object]</li>\n",
    "</ul>\n"
   ]
  },
  {
   "cell_type": "markdown",
   "id": "87c3d0c8-3c84-4d9e-a92d-87a15b066ee1",
   "metadata": {},
   "source": [
    "<h1 style=\"color:lightGreen; font-size:25px; font-weight:bold; background-color:#1C1C1C;padding:10px; border-radius:8px;\">Data Cleaning</h1>"
   ]
  },
  {
   "cell_type": "markdown",
   "id": "dac205b1-c4e8-491f-8990-823279d711c3",
   "metadata": {},
   "source": [
    "##### <span style=\"color:orange\"> is the process of identifying and correcting errors in a dataset to improve its quality and reliability. "
   ]
  },
  {
   "cell_type": "markdown",
   "id": "42330165-b896-4914-8ea4-ea634453c513",
   "metadata": {},
   "source": [
    "<ul style=\"color:#FF6347; font-weight:bold; background-color:#2F2F2F; padding:20px; border-radius:5px;\"><b> \n",
    "    <li>Data Type Conversion</li>\n",
    " </ul>"
   ]
  },
  {
   "cell_type": "code",
   "execution_count": 10,
   "id": "68ef554c-b31a-405a-842b-65b8bcdcc237",
   "metadata": {},
   "outputs": [
    {
     "data": {
      "text/html": [
       "<div>\n",
       "<style scoped>\n",
       "    .dataframe tbody tr th:only-of-type {\n",
       "        vertical-align: middle;\n",
       "    }\n",
       "\n",
       "    .dataframe tbody tr th {\n",
       "        vertical-align: top;\n",
       "    }\n",
       "\n",
       "    .dataframe thead th {\n",
       "        text-align: right;\n",
       "    }\n",
       "</style>\n",
       "<table border=\"1\" class=\"dataframe\">\n",
       "  <thead>\n",
       "    <tr style=\"text-align: right;\">\n",
       "      <th></th>\n",
       "      <th>order_id</th>\n",
       "      <th>customer_id</th>\n",
       "      <th>order_date</th>\n",
       "      <th>promised_delivery_time</th>\n",
       "      <th>actual_delivery_time</th>\n",
       "      <th>delivery_status</th>\n",
       "      <th>order_total</th>\n",
       "      <th>payment_method</th>\n",
       "      <th>delivery_partner_id</th>\n",
       "      <th>store_id</th>\n",
       "    </tr>\n",
       "  </thead>\n",
       "  <tbody>\n",
       "    <tr>\n",
       "      <th>0</th>\n",
       "      <td>1961864118</td>\n",
       "      <td>30065862</td>\n",
       "      <td>2024-07-17 08:34:01</td>\n",
       "      <td>2024-07-17 08:52:01</td>\n",
       "      <td>2024-07-17 08:47:01</td>\n",
       "      <td>On Time</td>\n",
       "      <td>3197.07</td>\n",
       "      <td>Cash</td>\n",
       "      <td>63230</td>\n",
       "      <td>4771</td>\n",
       "    </tr>\n",
       "    <tr>\n",
       "      <th>1</th>\n",
       "      <td>1549769649</td>\n",
       "      <td>9573071</td>\n",
       "      <td>2024-05-28 13:14:29</td>\n",
       "      <td>2024-05-28 13:25:29</td>\n",
       "      <td>2024-05-28 13:27:29</td>\n",
       "      <td>On Time</td>\n",
       "      <td>976.55</td>\n",
       "      <td>Cash</td>\n",
       "      <td>14983</td>\n",
       "      <td>7534</td>\n",
       "    </tr>\n",
       "    <tr>\n",
       "      <th>2</th>\n",
       "      <td>9185164487</td>\n",
       "      <td>45477575</td>\n",
       "      <td>2024-09-23 13:07:12</td>\n",
       "      <td>2024-09-23 13:25:12</td>\n",
       "      <td>2024-09-23 13:29:12</td>\n",
       "      <td>On Time</td>\n",
       "      <td>839.05</td>\n",
       "      <td>UPI</td>\n",
       "      <td>39859</td>\n",
       "      <td>9886</td>\n",
       "    </tr>\n",
       "    <tr>\n",
       "      <th>3</th>\n",
       "      <td>9644738826</td>\n",
       "      <td>88067569</td>\n",
       "      <td>2023-11-24 16:16:56</td>\n",
       "      <td>2023-11-24 16:34:56</td>\n",
       "      <td>2023-11-24 16:33:56</td>\n",
       "      <td>On Time</td>\n",
       "      <td>440.23</td>\n",
       "      <td>Card</td>\n",
       "      <td>61497</td>\n",
       "      <td>7917</td>\n",
       "    </tr>\n",
       "    <tr>\n",
       "      <th>4</th>\n",
       "      <td>5427684290</td>\n",
       "      <td>83298567</td>\n",
       "      <td>2023-11-20 05:00:39</td>\n",
       "      <td>2023-11-20 05:17:39</td>\n",
       "      <td>2023-11-20 05:18:39</td>\n",
       "      <td>On Time</td>\n",
       "      <td>2526.68</td>\n",
       "      <td>Cash</td>\n",
       "      <td>84315</td>\n",
       "      <td>2741</td>\n",
       "    </tr>\n",
       "  </tbody>\n",
       "</table>\n",
       "</div>"
      ],
      "text/plain": [
       "     order_id  customer_id           order_date promised_delivery_time  \\\n",
       "0  1961864118     30065862  2024-07-17 08:34:01    2024-07-17 08:52:01   \n",
       "1  1549769649      9573071  2024-05-28 13:14:29    2024-05-28 13:25:29   \n",
       "2  9185164487     45477575  2024-09-23 13:07:12    2024-09-23 13:25:12   \n",
       "3  9644738826     88067569  2023-11-24 16:16:56    2023-11-24 16:34:56   \n",
       "4  5427684290     83298567  2023-11-20 05:00:39    2023-11-20 05:17:39   \n",
       "\n",
       "  actual_delivery_time delivery_status  order_total payment_method  \\\n",
       "0  2024-07-17 08:47:01         On Time      3197.07           Cash   \n",
       "1  2024-05-28 13:27:29         On Time       976.55           Cash   \n",
       "2  2024-09-23 13:29:12         On Time       839.05            UPI   \n",
       "3  2023-11-24 16:33:56         On Time       440.23           Card   \n",
       "4  2023-11-20 05:18:39         On Time      2526.68           Cash   \n",
       "\n",
       "   delivery_partner_id  store_id  \n",
       "0                63230      4771  \n",
       "1                14983      7534  \n",
       "2                39859      9886  \n",
       "3                61497      7917  \n",
       "4                84315      2741  "
      ]
     },
     "execution_count": 10,
     "metadata": {},
     "output_type": "execute_result"
    }
   ],
   "source": [
    "# Backing Up Data\n",
    "orders_clean = orders.copy()\n",
    "orders_clean.head()"
   ]
  },
  {
   "cell_type": "markdown",
   "id": "77560fad-bf0f-4b70-8b2b-8e599add5d8a",
   "metadata": {},
   "source": [
    "<h3 style=\"color:#FF6347; font-size:22px; font-weight:bold; background-color:#2F2F2F; padding:5px; border-radius:5px;\"\">Data Type Conversion</h3>"
   ]
  },
  {
   "cell_type": "markdown",
   "id": "c52d0c64-a9f8-4927-ba0a-0a60cb1f1dac",
   "metadata": {},
   "source": [
    "##### <span style=\"color:orange\"> Data Type Conversion refers to the process of changing the data type of a variable or column in a dataset to another type. "
   ]
  },
  {
   "cell_type": "markdown",
   "id": "2f58877f-4e23-455f-82de-37addcfb9b22",
   "metadata": {},
   "source": [
    "<h3 style=\"color:#FF6347; font-size:22px;\"> 1. order_id (From int to object)</h3>"
   ]
  },
  {
   "cell_type": "code",
   "execution_count": 11,
   "id": "3e7a92ed-8d4c-47d6-85f4-2625fe4b9b25",
   "metadata": {},
   "outputs": [],
   "source": [
    "orders_clean['order_id'] = orders_clean['order_id'].astype('object')"
   ]
  },
  {
   "cell_type": "markdown",
   "id": "85b7dace-fa92-48dc-9ecc-42d3fe6ae3de",
   "metadata": {},
   "source": [
    "<h3 style=\"color:#FF6347; font-size:22px;\"> 2. Customer_id (From int to object)</h3>"
   ]
  },
  {
   "cell_type": "code",
   "execution_count": 12,
   "id": "c3d225f7-878d-48f2-93aa-bf01593fc0a2",
   "metadata": {},
   "outputs": [],
   "source": [
    "orders_clean['customer_id'] = orders_clean['customer_id'].astype('object')"
   ]
  },
  {
   "cell_type": "markdown",
   "id": "78f75801-a32d-4b10-a4cf-d6d2ac03bd68",
   "metadata": {},
   "source": [
    "<h3 style=\"color:#FF6347; font-size:22px;\"> 3. order_date (From object to Date Time)</h3>"
   ]
  },
  {
   "cell_type": "code",
   "execution_count": 13,
   "id": "5e72bac9-086e-428f-9fae-d69fd2cb521b",
   "metadata": {},
   "outputs": [],
   "source": [
    "orders_clean['order_date'] = pd.to_datetime(orders_clean['order_date'])"
   ]
  },
  {
   "cell_type": "markdown",
   "id": "af430d55-f0d4-4ba3-a32f-918f20be0335",
   "metadata": {},
   "source": [
    "<h3 style=\"color:#FF6347; font-size:22px;\"> 4. promised_delivery_time (From object to Date Time)</h3>"
   ]
  },
  {
   "cell_type": "code",
   "execution_count": 14,
   "id": "31a01312-587c-49f7-a723-2bdc8b2911c0",
   "metadata": {},
   "outputs": [],
   "source": [
    "orders_clean['promised_delivery_time'] = pd.to_datetime(orders_clean['promised_delivery_time'])"
   ]
  },
  {
   "cell_type": "markdown",
   "id": "7b32858b-a230-47b6-b339-c65252454c7c",
   "metadata": {},
   "source": [
    "<h3 style=\"color:#FF6347; font-size:22px;\"> 5. actual_delivery_time (From object to Date Time)</h3>"
   ]
  },
  {
   "cell_type": "code",
   "execution_count": 15,
   "id": "75e41276-e767-40c7-9aca-502e28dbe624",
   "metadata": {},
   "outputs": [],
   "source": [
    "orders_clean['actual_delivery_time'] = pd.to_datetime(orders_clean['actual_delivery_time'])"
   ]
  },
  {
   "cell_type": "markdown",
   "id": "ed123cd0-d529-486d-9dee-06d0b60655ea",
   "metadata": {},
   "source": [
    "<h3 style=\"color:#FF6347; font-size:22px;\"> 6. delivery_partner_id  (From int to object)</h3>"
   ]
  },
  {
   "cell_type": "code",
   "execution_count": 16,
   "id": "3c444451-5a4d-4d48-8170-366e7960522b",
   "metadata": {},
   "outputs": [],
   "source": [
    "orders_clean['delivery_partner_id'] = orders_clean['delivery_partner_id'].astype('object')"
   ]
  },
  {
   "cell_type": "markdown",
   "id": "e75333a7-3548-48bc-b13e-6ac076a6c254",
   "metadata": {},
   "source": [
    "<h3 style=\"color:#FF6347; font-size:22px;\"> 7. store_id (From int to object)</h3>"
   ]
  },
  {
   "cell_type": "code",
   "execution_count": 17,
   "id": "5127de71-6023-48e1-8257-de8b830d5c2b",
   "metadata": {},
   "outputs": [],
   "source": [
    "orders_clean['store_id'] = orders_clean['store_id'].astype('object')"
   ]
  },
  {
   "cell_type": "code",
   "execution_count": 18,
   "id": "5e43b569-22c5-4e86-8bdc-f20527ad6c9c",
   "metadata": {},
   "outputs": [
    {
     "name": "stdout",
     "output_type": "stream",
     "text": [
      "<class 'pandas.core.frame.DataFrame'>\n",
      "RangeIndex: 5000 entries, 0 to 4999\n",
      "Data columns (total 10 columns):\n",
      " #   Column                  Non-Null Count  Dtype         \n",
      "---  ------                  --------------  -----         \n",
      " 0   order_id                5000 non-null   object        \n",
      " 1   customer_id             5000 non-null   object        \n",
      " 2   order_date              5000 non-null   datetime64[ns]\n",
      " 3   promised_delivery_time  5000 non-null   datetime64[ns]\n",
      " 4   actual_delivery_time    5000 non-null   datetime64[ns]\n",
      " 5   delivery_status         5000 non-null   object        \n",
      " 6   order_total             5000 non-null   float64       \n",
      " 7   payment_method          5000 non-null   object        \n",
      " 8   delivery_partner_id     5000 non-null   object        \n",
      " 9   store_id                5000 non-null   object        \n",
      "dtypes: datetime64[ns](3), float64(1), object(6)\n",
      "memory usage: 390.8+ KB\n"
     ]
    }
   ],
   "source": [
    "orders_clean.info()"
   ]
  },
  {
   "cell_type": "code",
   "execution_count": 19,
   "id": "5d90c00f-21e7-443b-bb15-624ebe3b6baf",
   "metadata": {},
   "outputs": [],
   "source": [
    "# Save File 'orders Cleaned'\n",
    "orders_clean.to_csv('blinkit_orders_cleaned.csv',index = False)"
   ]
  },
  {
   "attachments": {},
   "cell_type": "markdown",
   "id": "7fe1d9a6-3d75-4d4f-b18e-a7e2d197dca3",
   "metadata": {},
   "source": [
    "<h2 style=\"color:skyblue; font-size:30px; font-weight:bold; background-color:#2a2a2a; padding:8px; border-radius:6px;\">\n",
    "2-\n",
    "📂 products Table\n",
    "</h2>\n",
    "\n",
    "<h1 style=\"color:lightGreen; font-size:25px; font-weight:bold; background-color:#1C1C1C;padding:10px; border-radius:8px;\">Exploring the Data</h1>"
   ]
  },
  {
   "cell_type": "code",
   "execution_count": 20,
   "id": "eeed06e7-d6bf-40b7-af51-b63335f5edc1",
   "metadata": {},
   "outputs": [
    {
     "data": {
      "text/html": [
       "<div>\n",
       "<style scoped>\n",
       "    .dataframe tbody tr th:only-of-type {\n",
       "        vertical-align: middle;\n",
       "    }\n",
       "\n",
       "    .dataframe tbody tr th {\n",
       "        vertical-align: top;\n",
       "    }\n",
       "\n",
       "    .dataframe thead th {\n",
       "        text-align: right;\n",
       "    }\n",
       "</style>\n",
       "<table border=\"1\" class=\"dataframe\">\n",
       "  <thead>\n",
       "    <tr style=\"text-align: right;\">\n",
       "      <th></th>\n",
       "      <th>product_id</th>\n",
       "      <th>product_name</th>\n",
       "      <th>category</th>\n",
       "      <th>brand</th>\n",
       "      <th>price</th>\n",
       "      <th>mrp</th>\n",
       "      <th>margin_percentage</th>\n",
       "      <th>shelf_life_days</th>\n",
       "      <th>min_stock_level</th>\n",
       "      <th>max_stock_level</th>\n",
       "    </tr>\n",
       "  </thead>\n",
       "  <tbody>\n",
       "    <tr>\n",
       "      <th>0</th>\n",
       "      <td>153019</td>\n",
       "      <td>Onions</td>\n",
       "      <td>Fruits &amp; Vegetables</td>\n",
       "      <td>Aurora LLC</td>\n",
       "      <td>947.95</td>\n",
       "      <td>1263.93</td>\n",
       "      <td>25.0</td>\n",
       "      <td>3</td>\n",
       "      <td>13</td>\n",
       "      <td>88</td>\n",
       "    </tr>\n",
       "    <tr>\n",
       "      <th>1</th>\n",
       "      <td>11422</td>\n",
       "      <td>Potatoes</td>\n",
       "      <td>Fruits &amp; Vegetables</td>\n",
       "      <td>Ramaswamy-Tata</td>\n",
       "      <td>127.16</td>\n",
       "      <td>169.55</td>\n",
       "      <td>25.0</td>\n",
       "      <td>3</td>\n",
       "      <td>20</td>\n",
       "      <td>65</td>\n",
       "    </tr>\n",
       "    <tr>\n",
       "      <th>2</th>\n",
       "      <td>669378</td>\n",
       "      <td>Potatoes</td>\n",
       "      <td>Fruits &amp; Vegetables</td>\n",
       "      <td>Chadha and Sons</td>\n",
       "      <td>212.14</td>\n",
       "      <td>282.85</td>\n",
       "      <td>25.0</td>\n",
       "      <td>3</td>\n",
       "      <td>23</td>\n",
       "      <td>70</td>\n",
       "    </tr>\n",
       "    <tr>\n",
       "      <th>3</th>\n",
       "      <td>848226</td>\n",
       "      <td>Tomatoes</td>\n",
       "      <td>Fruits &amp; Vegetables</td>\n",
       "      <td>Barad and Sons</td>\n",
       "      <td>209.59</td>\n",
       "      <td>279.45</td>\n",
       "      <td>25.0</td>\n",
       "      <td>3</td>\n",
       "      <td>10</td>\n",
       "      <td>51</td>\n",
       "    </tr>\n",
       "    <tr>\n",
       "      <th>4</th>\n",
       "      <td>890623</td>\n",
       "      <td>Onions</td>\n",
       "      <td>Fruits &amp; Vegetables</td>\n",
       "      <td>Sangha, Nagar and Varty</td>\n",
       "      <td>354.52</td>\n",
       "      <td>472.69</td>\n",
       "      <td>25.0</td>\n",
       "      <td>3</td>\n",
       "      <td>27</td>\n",
       "      <td>55</td>\n",
       "    </tr>\n",
       "  </tbody>\n",
       "</table>\n",
       "</div>"
      ],
      "text/plain": [
       "   product_id product_name             category                    brand  \\\n",
       "0      153019       Onions  Fruits & Vegetables               Aurora LLC   \n",
       "1       11422     Potatoes  Fruits & Vegetables           Ramaswamy-Tata   \n",
       "2      669378     Potatoes  Fruits & Vegetables          Chadha and Sons   \n",
       "3      848226     Tomatoes  Fruits & Vegetables           Barad and Sons   \n",
       "4      890623       Onions  Fruits & Vegetables  Sangha, Nagar and Varty   \n",
       "\n",
       "    price      mrp  margin_percentage  shelf_life_days  min_stock_level  \\\n",
       "0  947.95  1263.93               25.0                3               13   \n",
       "1  127.16   169.55               25.0                3               20   \n",
       "2  212.14   282.85               25.0                3               23   \n",
       "3  209.59   279.45               25.0                3               10   \n",
       "4  354.52   472.69               25.0                3               27   \n",
       "\n",
       "   max_stock_level  \n",
       "0               88  \n",
       "1               65  \n",
       "2               70  \n",
       "3               51  \n",
       "4               55  "
      ]
     },
     "execution_count": 20,
     "metadata": {},
     "output_type": "execute_result"
    }
   ],
   "source": [
    "products.head()"
   ]
  },
  {
   "cell_type": "code",
   "execution_count": 21,
   "id": "814cb10a-59aa-4959-8344-740c19d5226f",
   "metadata": {},
   "outputs": [
    {
     "name": "stdout",
     "output_type": "stream",
     "text": [
      "<class 'pandas.core.frame.DataFrame'>\n",
      "RangeIndex: 268 entries, 0 to 267\n",
      "Data columns (total 10 columns):\n",
      " #   Column             Non-Null Count  Dtype  \n",
      "---  ------             --------------  -----  \n",
      " 0   product_id         268 non-null    int64  \n",
      " 1   product_name       268 non-null    object \n",
      " 2   category           268 non-null    object \n",
      " 3   brand              268 non-null    object \n",
      " 4   price              268 non-null    float64\n",
      " 5   mrp                268 non-null    float64\n",
      " 6   margin_percentage  268 non-null    float64\n",
      " 7   shelf_life_days    268 non-null    int64  \n",
      " 8   min_stock_level    268 non-null    int64  \n",
      " 9   max_stock_level    268 non-null    int64  \n",
      "dtypes: float64(3), int64(4), object(3)\n",
      "memory usage: 21.1+ KB\n"
     ]
    }
   ],
   "source": [
    "products.info()"
   ]
  },
  {
   "cell_type": "code",
   "execution_count": 22,
   "id": "0ff56af7-fad2-4b7f-b224-e069cf6677c5",
   "metadata": {},
   "outputs": [
    {
     "data": {
      "text/html": [
       "<div>\n",
       "<style scoped>\n",
       "    .dataframe tbody tr th:only-of-type {\n",
       "        vertical-align: middle;\n",
       "    }\n",
       "\n",
       "    .dataframe tbody tr th {\n",
       "        vertical-align: top;\n",
       "    }\n",
       "\n",
       "    .dataframe thead th {\n",
       "        text-align: right;\n",
       "    }\n",
       "</style>\n",
       "<table border=\"1\" class=\"dataframe\">\n",
       "  <thead>\n",
       "    <tr style=\"text-align: right;\">\n",
       "      <th></th>\n",
       "      <th>product_id</th>\n",
       "      <th>price</th>\n",
       "      <th>mrp</th>\n",
       "      <th>margin_percentage</th>\n",
       "      <th>shelf_life_days</th>\n",
       "      <th>min_stock_level</th>\n",
       "      <th>max_stock_level</th>\n",
       "    </tr>\n",
       "  </thead>\n",
       "  <tbody>\n",
       "    <tr>\n",
       "      <th>count</th>\n",
       "      <td>268.000000</td>\n",
       "      <td>268.000000</td>\n",
       "      <td>268.000000</td>\n",
       "      <td>268.000000</td>\n",
       "      <td>268.000000</td>\n",
       "      <td>268.000000</td>\n",
       "      <td>268.000000</td>\n",
       "    </tr>\n",
       "    <tr>\n",
       "      <th>mean</th>\n",
       "      <td>514855.940299</td>\n",
       "      <td>488.356828</td>\n",
       "      <td>680.434739</td>\n",
       "      <td>27.779851</td>\n",
       "      <td>231.757463</td>\n",
       "      <td>20.388060</td>\n",
       "      <td>74.753731</td>\n",
       "    </tr>\n",
       "    <tr>\n",
       "      <th>std</th>\n",
       "      <td>291391.529820</td>\n",
       "      <td>298.487200</td>\n",
       "      <td>419.772224</td>\n",
       "      <td>7.458753</td>\n",
       "      <td>151.205830</td>\n",
       "      <td>5.958546</td>\n",
       "      <td>14.591535</td>\n",
       "    </tr>\n",
       "    <tr>\n",
       "      <th>min</th>\n",
       "      <td>4452.000000</td>\n",
       "      <td>12.320000</td>\n",
       "      <td>17.600000</td>\n",
       "      <td>15.000000</td>\n",
       "      <td>3.000000</td>\n",
       "      <td>10.000000</td>\n",
       "      <td>50.000000</td>\n",
       "    </tr>\n",
       "    <tr>\n",
       "      <th>25%</th>\n",
       "      <td>273697.750000</td>\n",
       "      <td>226.717500</td>\n",
       "      <td>325.150000</td>\n",
       "      <td>20.000000</td>\n",
       "      <td>90.000000</td>\n",
       "      <td>15.000000</td>\n",
       "      <td>63.750000</td>\n",
       "    </tr>\n",
       "    <tr>\n",
       "      <th>50%</th>\n",
       "      <td>541459.000000</td>\n",
       "      <td>442.185000</td>\n",
       "      <td>616.970000</td>\n",
       "      <td>30.000000</td>\n",
       "      <td>365.000000</td>\n",
       "      <td>21.000000</td>\n",
       "      <td>73.000000</td>\n",
       "    </tr>\n",
       "    <tr>\n",
       "      <th>75%</th>\n",
       "      <td>754334.000000</td>\n",
       "      <td>779.445000</td>\n",
       "      <td>1056.620000</td>\n",
       "      <td>35.000000</td>\n",
       "      <td>365.000000</td>\n",
       "      <td>25.250000</td>\n",
       "      <td>88.000000</td>\n",
       "    </tr>\n",
       "    <tr>\n",
       "      <th>max</th>\n",
       "      <td>993331.000000</td>\n",
       "      <td>995.980000</td>\n",
       "      <td>1633.320000</td>\n",
       "      <td>40.000000</td>\n",
       "      <td>365.000000</td>\n",
       "      <td>30.000000</td>\n",
       "      <td>100.000000</td>\n",
       "    </tr>\n",
       "  </tbody>\n",
       "</table>\n",
       "</div>"
      ],
      "text/plain": [
       "          product_id       price          mrp  margin_percentage  \\\n",
       "count     268.000000  268.000000   268.000000         268.000000   \n",
       "mean   514855.940299  488.356828   680.434739          27.779851   \n",
       "std    291391.529820  298.487200   419.772224           7.458753   \n",
       "min      4452.000000   12.320000    17.600000          15.000000   \n",
       "25%    273697.750000  226.717500   325.150000          20.000000   \n",
       "50%    541459.000000  442.185000   616.970000          30.000000   \n",
       "75%    754334.000000  779.445000  1056.620000          35.000000   \n",
       "max    993331.000000  995.980000  1633.320000          40.000000   \n",
       "\n",
       "       shelf_life_days  min_stock_level  max_stock_level  \n",
       "count       268.000000       268.000000       268.000000  \n",
       "mean        231.757463        20.388060        74.753731  \n",
       "std         151.205830         5.958546        14.591535  \n",
       "min           3.000000        10.000000        50.000000  \n",
       "25%          90.000000        15.000000        63.750000  \n",
       "50%         365.000000        21.000000        73.000000  \n",
       "75%         365.000000        25.250000        88.000000  \n",
       "max         365.000000        30.000000       100.000000  "
      ]
     },
     "execution_count": 22,
     "metadata": {},
     "output_type": "execute_result"
    }
   ],
   "source": [
    "products.describe()"
   ]
  },
  {
   "cell_type": "code",
   "execution_count": 23,
   "id": "a65f38b5-2f8a-4afd-8b47-62bc8e051d16",
   "metadata": {},
   "outputs": [
    {
     "data": {
      "text/plain": [
       "product_id           0\n",
       "product_name         0\n",
       "category             0\n",
       "brand                0\n",
       "price                0\n",
       "mrp                  0\n",
       "margin_percentage    0\n",
       "shelf_life_days      0\n",
       "min_stock_level      0\n",
       "max_stock_level      0\n",
       "dtype: int64"
      ]
     },
     "execution_count": 23,
     "metadata": {},
     "output_type": "execute_result"
    }
   ],
   "source": [
    "products.isnull().sum()"
   ]
  },
  {
   "cell_type": "code",
   "execution_count": 24,
   "id": "cc626f12-3239-44b4-9eb7-e3e61ed6fa52",
   "metadata": {},
   "outputs": [
    {
     "data": {
      "text/plain": [
       "0"
      ]
     },
     "execution_count": 24,
     "metadata": {},
     "output_type": "execute_result"
    }
   ],
   "source": [
    "products['product_id'].duplicated().sum()"
   ]
  },
  {
   "cell_type": "markdown",
   "id": "babdce1a-3874-43ff-a90f-17dd4e9d1ba7",
   "metadata": {},
   "source": [
    "<h1 style=\"color:#00274D; background-color:#FFD700; padding:10px; border-radius:8px;\">\n",
    "    📌 Featureset Exploration\n",
    "</h1>\n",
    "<ul style=\"color:#00FF7F; font-weight:bold; background-color:#2F2F2F; padding:20px; border-radius:5px;\"> <b>\n",
    "    <li>product_id : Nominal  [Note : Must be object]</li>\n",
    "    <li>product_name : Nominal </li>\n",
    "    <li>category : Nominal</li>\n",
    "    <li>brand : Nominal</li>\n",
    "    <li>price : Ratio</li>\n",
    "    <li>mrp : Ratio</li>\n",
    "    <li>margin_percentage : Ratio</li>\n",
    "    <li>shelf_life_days : Ratio</li>\n",
    "    <li>min_stock_level : Ratio</li>\n",
    "    <li>max_stock_level : Ratio</li>\n",
    "</ul>\n"
   ]
  },
  {
   "cell_type": "markdown",
   "id": "84818ba5-440c-4736-9d01-95e54ed22284",
   "metadata": {},
   "source": [
    "<h1 style=\"color:lightGreen; font-size:25px; font-weight:bold; background-color:#1C1C1C;padding:10px; border-radius:8px;\">Data Cleaning</h1>"
   ]
  },
  {
   "cell_type": "markdown",
   "id": "d28fdf5b-80bd-4050-ad0a-0d97d30ac8ba",
   "metadata": {},
   "source": [
    "<ul style=\"color:#FF6347; font-weight:bold; background-color:#2F2F2F; padding:20px; border-radius:5px;\"><b> \n",
    "    <li>Data Type Conversion</li>\n",
    " </ul>"
   ]
  },
  {
   "cell_type": "code",
   "execution_count": 25,
   "id": "c52a2d1e-430f-43bb-a659-2ae03c174a39",
   "metadata": {},
   "outputs": [
    {
     "data": {
      "text/html": [
       "<div>\n",
       "<style scoped>\n",
       "    .dataframe tbody tr th:only-of-type {\n",
       "        vertical-align: middle;\n",
       "    }\n",
       "\n",
       "    .dataframe tbody tr th {\n",
       "        vertical-align: top;\n",
       "    }\n",
       "\n",
       "    .dataframe thead th {\n",
       "        text-align: right;\n",
       "    }\n",
       "</style>\n",
       "<table border=\"1\" class=\"dataframe\">\n",
       "  <thead>\n",
       "    <tr style=\"text-align: right;\">\n",
       "      <th></th>\n",
       "      <th>product_id</th>\n",
       "      <th>product_name</th>\n",
       "      <th>category</th>\n",
       "      <th>brand</th>\n",
       "      <th>price</th>\n",
       "      <th>mrp</th>\n",
       "      <th>margin_percentage</th>\n",
       "      <th>shelf_life_days</th>\n",
       "      <th>min_stock_level</th>\n",
       "      <th>max_stock_level</th>\n",
       "    </tr>\n",
       "  </thead>\n",
       "  <tbody>\n",
       "    <tr>\n",
       "      <th>0</th>\n",
       "      <td>153019</td>\n",
       "      <td>Onions</td>\n",
       "      <td>Fruits &amp; Vegetables</td>\n",
       "      <td>Aurora LLC</td>\n",
       "      <td>947.95</td>\n",
       "      <td>1263.93</td>\n",
       "      <td>25.0</td>\n",
       "      <td>3</td>\n",
       "      <td>13</td>\n",
       "      <td>88</td>\n",
       "    </tr>\n",
       "    <tr>\n",
       "      <th>1</th>\n",
       "      <td>11422</td>\n",
       "      <td>Potatoes</td>\n",
       "      <td>Fruits &amp; Vegetables</td>\n",
       "      <td>Ramaswamy-Tata</td>\n",
       "      <td>127.16</td>\n",
       "      <td>169.55</td>\n",
       "      <td>25.0</td>\n",
       "      <td>3</td>\n",
       "      <td>20</td>\n",
       "      <td>65</td>\n",
       "    </tr>\n",
       "    <tr>\n",
       "      <th>2</th>\n",
       "      <td>669378</td>\n",
       "      <td>Potatoes</td>\n",
       "      <td>Fruits &amp; Vegetables</td>\n",
       "      <td>Chadha and Sons</td>\n",
       "      <td>212.14</td>\n",
       "      <td>282.85</td>\n",
       "      <td>25.0</td>\n",
       "      <td>3</td>\n",
       "      <td>23</td>\n",
       "      <td>70</td>\n",
       "    </tr>\n",
       "    <tr>\n",
       "      <th>3</th>\n",
       "      <td>848226</td>\n",
       "      <td>Tomatoes</td>\n",
       "      <td>Fruits &amp; Vegetables</td>\n",
       "      <td>Barad and Sons</td>\n",
       "      <td>209.59</td>\n",
       "      <td>279.45</td>\n",
       "      <td>25.0</td>\n",
       "      <td>3</td>\n",
       "      <td>10</td>\n",
       "      <td>51</td>\n",
       "    </tr>\n",
       "    <tr>\n",
       "      <th>4</th>\n",
       "      <td>890623</td>\n",
       "      <td>Onions</td>\n",
       "      <td>Fruits &amp; Vegetables</td>\n",
       "      <td>Sangha, Nagar and Varty</td>\n",
       "      <td>354.52</td>\n",
       "      <td>472.69</td>\n",
       "      <td>25.0</td>\n",
       "      <td>3</td>\n",
       "      <td>27</td>\n",
       "      <td>55</td>\n",
       "    </tr>\n",
       "  </tbody>\n",
       "</table>\n",
       "</div>"
      ],
      "text/plain": [
       "   product_id product_name             category                    brand  \\\n",
       "0      153019       Onions  Fruits & Vegetables               Aurora LLC   \n",
       "1       11422     Potatoes  Fruits & Vegetables           Ramaswamy-Tata   \n",
       "2      669378     Potatoes  Fruits & Vegetables          Chadha and Sons   \n",
       "3      848226     Tomatoes  Fruits & Vegetables           Barad and Sons   \n",
       "4      890623       Onions  Fruits & Vegetables  Sangha, Nagar and Varty   \n",
       "\n",
       "    price      mrp  margin_percentage  shelf_life_days  min_stock_level  \\\n",
       "0  947.95  1263.93               25.0                3               13   \n",
       "1  127.16   169.55               25.0                3               20   \n",
       "2  212.14   282.85               25.0                3               23   \n",
       "3  209.59   279.45               25.0                3               10   \n",
       "4  354.52   472.69               25.0                3               27   \n",
       "\n",
       "   max_stock_level  \n",
       "0               88  \n",
       "1               65  \n",
       "2               70  \n",
       "3               51  \n",
       "4               55  "
      ]
     },
     "execution_count": 25,
     "metadata": {},
     "output_type": "execute_result"
    }
   ],
   "source": [
    "products_clean = products.copy()\n",
    "products_clean.head()"
   ]
  },
  {
   "cell_type": "markdown",
   "id": "a6441da7-7a7d-4086-b478-5d987052fcde",
   "metadata": {},
   "source": [
    "<h3 style=\"color:#FF6347; font-size:22px;\"> product-id (From int to object)</h3>"
   ]
  },
  {
   "cell_type": "code",
   "execution_count": 26,
   "id": "0c916f8b-53f1-4ca7-8de8-60f38d3e5230",
   "metadata": {},
   "outputs": [],
   "source": [
    "products_clean['product_id'] = products_clean['product_id'].astype('object')"
   ]
  },
  {
   "cell_type": "code",
   "execution_count": 27,
   "id": "c57809d2-5383-4000-a8c7-00c8b0e35f47",
   "metadata": {},
   "outputs": [
    {
     "name": "stdout",
     "output_type": "stream",
     "text": [
      "<class 'pandas.core.frame.DataFrame'>\n",
      "RangeIndex: 268 entries, 0 to 267\n",
      "Data columns (total 10 columns):\n",
      " #   Column             Non-Null Count  Dtype  \n",
      "---  ------             --------------  -----  \n",
      " 0   product_id         268 non-null    object \n",
      " 1   product_name       268 non-null    object \n",
      " 2   category           268 non-null    object \n",
      " 3   brand              268 non-null    object \n",
      " 4   price              268 non-null    float64\n",
      " 5   mrp                268 non-null    float64\n",
      " 6   margin_percentage  268 non-null    float64\n",
      " 7   shelf_life_days    268 non-null    int64  \n",
      " 8   min_stock_level    268 non-null    int64  \n",
      " 9   max_stock_level    268 non-null    int64  \n",
      "dtypes: float64(3), int64(3), object(4)\n",
      "memory usage: 21.1+ KB\n"
     ]
    }
   ],
   "source": [
    "products_clean.info()"
   ]
  },
  {
   "cell_type": "code",
   "execution_count": 28,
   "id": "b7010cb5-18f7-4e1f-bcc9-6658cb9d9d9c",
   "metadata": {},
   "outputs": [],
   "source": [
    "# Save File 'Products_cleaned'\n",
    "products_clean.to_csv('blinkit_products_cleaned.csv',index = False)"
   ]
  },
  {
   "cell_type": "markdown",
   "id": "31ffe061-12ea-4607-84e0-fae6b445f840",
   "metadata": {},
   "source": [
    "<h2 style=\"color:skyblue; font-size:30px; font-weight:bold; background-color:#2a2a2a; padding:8px; border-radius:6px;\">\n",
    "3-\n",
    "📂 order_items Table\n",
    "</h2>\n",
    "\n",
    "\n",
    "<h1 style=\"color:lightGreen; font-size:25px; font-weight:bold; background-color:#1C1C1C;padding:10px; border-radius:8px;\">Exploring the Data</h1>"
   ]
  },
  {
   "cell_type": "code",
   "execution_count": 29,
   "id": "07420ad4-0f6c-4734-8dcf-358bb4fdf01f",
   "metadata": {},
   "outputs": [
    {
     "data": {
      "text/html": [
       "<div>\n",
       "<style scoped>\n",
       "    .dataframe tbody tr th:only-of-type {\n",
       "        vertical-align: middle;\n",
       "    }\n",
       "\n",
       "    .dataframe tbody tr th {\n",
       "        vertical-align: top;\n",
       "    }\n",
       "\n",
       "    .dataframe thead th {\n",
       "        text-align: right;\n",
       "    }\n",
       "</style>\n",
       "<table border=\"1\" class=\"dataframe\">\n",
       "  <thead>\n",
       "    <tr style=\"text-align: right;\">\n",
       "      <th></th>\n",
       "      <th>order_id</th>\n",
       "      <th>product_id</th>\n",
       "      <th>quantity</th>\n",
       "      <th>unit_price</th>\n",
       "    </tr>\n",
       "  </thead>\n",
       "  <tbody>\n",
       "    <tr>\n",
       "      <th>0</th>\n",
       "      <td>1961864118</td>\n",
       "      <td>642612</td>\n",
       "      <td>3</td>\n",
       "      <td>517.03</td>\n",
       "    </tr>\n",
       "    <tr>\n",
       "      <th>1</th>\n",
       "      <td>1549769649</td>\n",
       "      <td>378676</td>\n",
       "      <td>1</td>\n",
       "      <td>881.42</td>\n",
       "    </tr>\n",
       "    <tr>\n",
       "      <th>2</th>\n",
       "      <td>9185164487</td>\n",
       "      <td>741341</td>\n",
       "      <td>2</td>\n",
       "      <td>923.84</td>\n",
       "    </tr>\n",
       "    <tr>\n",
       "      <th>3</th>\n",
       "      <td>9644738826</td>\n",
       "      <td>561860</td>\n",
       "      <td>1</td>\n",
       "      <td>874.78</td>\n",
       "    </tr>\n",
       "    <tr>\n",
       "      <th>4</th>\n",
       "      <td>5427684290</td>\n",
       "      <td>602241</td>\n",
       "      <td>2</td>\n",
       "      <td>976.55</td>\n",
       "    </tr>\n",
       "  </tbody>\n",
       "</table>\n",
       "</div>"
      ],
      "text/plain": [
       "     order_id  product_id  quantity  unit_price\n",
       "0  1961864118      642612         3      517.03\n",
       "1  1549769649      378676         1      881.42\n",
       "2  9185164487      741341         2      923.84\n",
       "3  9644738826      561860         1      874.78\n",
       "4  5427684290      602241         2      976.55"
      ]
     },
     "execution_count": 29,
     "metadata": {},
     "output_type": "execute_result"
    }
   ],
   "source": [
    "order_items.head(5)"
   ]
  },
  {
   "cell_type": "code",
   "execution_count": 30,
   "id": "d5c11d08-6f11-4732-ada6-46c4b42b7fdb",
   "metadata": {},
   "outputs": [
    {
     "name": "stdout",
     "output_type": "stream",
     "text": [
      "<class 'pandas.core.frame.DataFrame'>\n",
      "RangeIndex: 5000 entries, 0 to 4999\n",
      "Data columns (total 4 columns):\n",
      " #   Column      Non-Null Count  Dtype  \n",
      "---  ------      --------------  -----  \n",
      " 0   order_id    5000 non-null   int64  \n",
      " 1   product_id  5000 non-null   int64  \n",
      " 2   quantity    5000 non-null   int64  \n",
      " 3   unit_price  5000 non-null   float64\n",
      "dtypes: float64(1), int64(3)\n",
      "memory usage: 156.4 KB\n"
     ]
    }
   ],
   "source": [
    "order_items.info()"
   ]
  },
  {
   "cell_type": "code",
   "execution_count": 31,
   "id": "1ccc998d-9ad9-4d75-b3f3-4395c101a43f",
   "metadata": {},
   "outputs": [
    {
     "data": {
      "text/html": [
       "<div>\n",
       "<style scoped>\n",
       "    .dataframe tbody tr th:only-of-type {\n",
       "        vertical-align: middle;\n",
       "    }\n",
       "\n",
       "    .dataframe tbody tr th {\n",
       "        vertical-align: top;\n",
       "    }\n",
       "\n",
       "    .dataframe thead th {\n",
       "        text-align: right;\n",
       "    }\n",
       "</style>\n",
       "<table border=\"1\" class=\"dataframe\">\n",
       "  <thead>\n",
       "    <tr style=\"text-align: right;\">\n",
       "      <th></th>\n",
       "      <th>order_id</th>\n",
       "      <th>product_id</th>\n",
       "      <th>quantity</th>\n",
       "      <th>unit_price</th>\n",
       "    </tr>\n",
       "  </thead>\n",
       "  <tbody>\n",
       "    <tr>\n",
       "      <th>count</th>\n",
       "      <td>5.000000e+03</td>\n",
       "      <td>5000.000000</td>\n",
       "      <td>5000.000000</td>\n",
       "      <td>5000.000000</td>\n",
       "    </tr>\n",
       "    <tr>\n",
       "      <th>mean</th>\n",
       "      <td>5.029129e+09</td>\n",
       "      <td>509974.939600</td>\n",
       "      <td>2.006800</td>\n",
       "      <td>493.157900</td>\n",
       "    </tr>\n",
       "    <tr>\n",
       "      <th>std</th>\n",
       "      <td>2.863533e+09</td>\n",
       "      <td>293678.307475</td>\n",
       "      <td>0.820542</td>\n",
       "      <td>298.075647</td>\n",
       "    </tr>\n",
       "    <tr>\n",
       "      <th>min</th>\n",
       "      <td>6.046500e+04</td>\n",
       "      <td>4452.000000</td>\n",
       "      <td>1.000000</td>\n",
       "      <td>12.320000</td>\n",
       "    </tr>\n",
       "    <tr>\n",
       "      <th>25%</th>\n",
       "      <td>2.531421e+09</td>\n",
       "      <td>257719.000000</td>\n",
       "      <td>1.000000</td>\n",
       "      <td>227.220000</td>\n",
       "    </tr>\n",
       "    <tr>\n",
       "      <th>50%</th>\n",
       "      <td>5.074378e+09</td>\n",
       "      <td>540618.000000</td>\n",
       "      <td>2.000000</td>\n",
       "      <td>448.160000</td>\n",
       "    </tr>\n",
       "    <tr>\n",
       "      <th>75%</th>\n",
       "      <td>7.488579e+09</td>\n",
       "      <td>747801.000000</td>\n",
       "      <td>3.000000</td>\n",
       "      <td>781.080000</td>\n",
       "    </tr>\n",
       "    <tr>\n",
       "      <th>max</th>\n",
       "      <td>9.998298e+09</td>\n",
       "      <td>993331.000000</td>\n",
       "      <td>3.000000</td>\n",
       "      <td>995.980000</td>\n",
       "    </tr>\n",
       "  </tbody>\n",
       "</table>\n",
       "</div>"
      ],
      "text/plain": [
       "           order_id     product_id     quantity   unit_price\n",
       "count  5.000000e+03    5000.000000  5000.000000  5000.000000\n",
       "mean   5.029129e+09  509974.939600     2.006800   493.157900\n",
       "std    2.863533e+09  293678.307475     0.820542   298.075647\n",
       "min    6.046500e+04    4452.000000     1.000000    12.320000\n",
       "25%    2.531421e+09  257719.000000     1.000000   227.220000\n",
       "50%    5.074378e+09  540618.000000     2.000000   448.160000\n",
       "75%    7.488579e+09  747801.000000     3.000000   781.080000\n",
       "max    9.998298e+09  993331.000000     3.000000   995.980000"
      ]
     },
     "execution_count": 31,
     "metadata": {},
     "output_type": "execute_result"
    }
   ],
   "source": [
    "order_items.describe()"
   ]
  },
  {
   "cell_type": "code",
   "execution_count": 32,
   "id": "830a87d8-d2f0-4f4a-96b4-3838a97a948f",
   "metadata": {},
   "outputs": [
    {
     "data": {
      "text/plain": [
       "order_id      0\n",
       "product_id    0\n",
       "quantity      0\n",
       "unit_price    0\n",
       "dtype: int64"
      ]
     },
     "execution_count": 32,
     "metadata": {},
     "output_type": "execute_result"
    }
   ],
   "source": [
    "order_items.isnull().sum()"
   ]
  },
  {
   "cell_type": "code",
   "execution_count": 33,
   "id": "66f4acad-2ada-48cf-9d5c-7a6ed94631e0",
   "metadata": {},
   "outputs": [
    {
     "name": "stdout",
     "output_type": "stream",
     "text": [
      "0\n"
     ]
    }
   ],
   "source": [
    "print(order_items['order_id'].duplicated().sum())"
   ]
  },
  {
   "cell_type": "markdown",
   "id": "27267022-76fb-4b34-85a0-1e83a4753698",
   "metadata": {},
   "source": [
    "<h1 style=\"color:#00274D; background-color:#FFD700; padding:10px; border-radius:8px;\">\n",
    "    📌 Featureset Exploration\n",
    "</h1>\n",
    "<ul style=\"color:#00FF7F; font-weight:bold; background-color:#2F2F2F; padding:20px; border-radius:5px;\"> <b>\n",
    "    <li>order_id : Nominal  [Note : Must be object]</li>\n",
    "    <li>product_id : Nominal [Note : Must be object]</li>\n",
    "    <li>quantity : Ratio</li>\n",
    "    <li>unit_price : Ratio</li>\n",
    "</ul>\n"
   ]
  },
  {
   "cell_type": "markdown",
   "id": "37b9bd3a-af61-468f-8eb0-25000c3d8a99",
   "metadata": {},
   "source": [
    "<h1 style=\"color:lightGreen; font-size:25px; font-weight:bold; background-color:#1C1C1C;padding:10px; border-radius:8px;\">Data Cleaning</h1>"
   ]
  },
  {
   "cell_type": "code",
   "execution_count": 34,
   "id": "70c2920c-01f4-41a3-8e27-f90bb1d6dd91",
   "metadata": {},
   "outputs": [
    {
     "data": {
      "text/html": [
       "<div>\n",
       "<style scoped>\n",
       "    .dataframe tbody tr th:only-of-type {\n",
       "        vertical-align: middle;\n",
       "    }\n",
       "\n",
       "    .dataframe tbody tr th {\n",
       "        vertical-align: top;\n",
       "    }\n",
       "\n",
       "    .dataframe thead th {\n",
       "        text-align: right;\n",
       "    }\n",
       "</style>\n",
       "<table border=\"1\" class=\"dataframe\">\n",
       "  <thead>\n",
       "    <tr style=\"text-align: right;\">\n",
       "      <th></th>\n",
       "      <th>order_id</th>\n",
       "      <th>product_id</th>\n",
       "      <th>quantity</th>\n",
       "      <th>unit_price</th>\n",
       "    </tr>\n",
       "  </thead>\n",
       "  <tbody>\n",
       "    <tr>\n",
       "      <th>0</th>\n",
       "      <td>1961864118</td>\n",
       "      <td>642612</td>\n",
       "      <td>3</td>\n",
       "      <td>517.03</td>\n",
       "    </tr>\n",
       "    <tr>\n",
       "      <th>1</th>\n",
       "      <td>1549769649</td>\n",
       "      <td>378676</td>\n",
       "      <td>1</td>\n",
       "      <td>881.42</td>\n",
       "    </tr>\n",
       "    <tr>\n",
       "      <th>2</th>\n",
       "      <td>9185164487</td>\n",
       "      <td>741341</td>\n",
       "      <td>2</td>\n",
       "      <td>923.84</td>\n",
       "    </tr>\n",
       "    <tr>\n",
       "      <th>3</th>\n",
       "      <td>9644738826</td>\n",
       "      <td>561860</td>\n",
       "      <td>1</td>\n",
       "      <td>874.78</td>\n",
       "    </tr>\n",
       "    <tr>\n",
       "      <th>4</th>\n",
       "      <td>5427684290</td>\n",
       "      <td>602241</td>\n",
       "      <td>2</td>\n",
       "      <td>976.55</td>\n",
       "    </tr>\n",
       "  </tbody>\n",
       "</table>\n",
       "</div>"
      ],
      "text/plain": [
       "     order_id  product_id  quantity  unit_price\n",
       "0  1961864118      642612         3      517.03\n",
       "1  1549769649      378676         1      881.42\n",
       "2  9185164487      741341         2      923.84\n",
       "3  9644738826      561860         1      874.78\n",
       "4  5427684290      602241         2      976.55"
      ]
     },
     "execution_count": 34,
     "metadata": {},
     "output_type": "execute_result"
    }
   ],
   "source": [
    "order_items_clean = order_items.copy()\n",
    "order_items_clean.head()"
   ]
  },
  {
   "cell_type": "markdown",
   "id": "ea29ab76-2634-4243-a90f-5b7cfaf88e26",
   "metadata": {},
   "source": [
    "<ul style=\"color:#FF6347; font-weight:bold; background-color:#2F2F2F; padding:20px; border-radius:5px;\"><b> \n",
    "    <li>Data Type Conversion</li>\n",
    " </ul>"
   ]
  },
  {
   "cell_type": "markdown",
   "id": "60deb0a8-5cba-44b7-8d42-0572da689f3e",
   "metadata": {},
   "source": [
    "<h3 style=\"color:#FF6347; font-size:22px;\"> order_id (From int to object)</h3>"
   ]
  },
  {
   "cell_type": "code",
   "execution_count": 35,
   "id": "4b6f03a8-8c80-45a5-8bbc-4eed36546a34",
   "metadata": {},
   "outputs": [],
   "source": [
    "order_items_clean['order_id'] = order_items_clean['order_id'].astype('object')"
   ]
  },
  {
   "cell_type": "markdown",
   "id": "32b3c6e0-df7b-4249-97a1-b2cc2e2d26dc",
   "metadata": {},
   "source": [
    "<h3 style=\"color:#FF6347; font-size:22px;\"> product-id (From int to object)</h3>"
   ]
  },
  {
   "cell_type": "code",
   "execution_count": 36,
   "id": "382b845a-3d32-42e0-8e3d-dd3144f55fbf",
   "metadata": {},
   "outputs": [],
   "source": [
    "order_items_clean['product_id'] = order_items_clean['product_id'].astype('object')"
   ]
  },
  {
   "cell_type": "code",
   "execution_count": 37,
   "id": "8d3fd130-c271-45da-8424-9a6f3211acc7",
   "metadata": {},
   "outputs": [
    {
     "name": "stdout",
     "output_type": "stream",
     "text": [
      "<class 'pandas.core.frame.DataFrame'>\n",
      "RangeIndex: 5000 entries, 0 to 4999\n",
      "Data columns (total 4 columns):\n",
      " #   Column      Non-Null Count  Dtype  \n",
      "---  ------      --------------  -----  \n",
      " 0   order_id    5000 non-null   object \n",
      " 1   product_id  5000 non-null   object \n",
      " 2   quantity    5000 non-null   int64  \n",
      " 3   unit_price  5000 non-null   float64\n",
      "dtypes: float64(1), int64(1), object(2)\n",
      "memory usage: 156.4+ KB\n"
     ]
    }
   ],
   "source": [
    "order_items_clean.info()"
   ]
  },
  {
   "cell_type": "code",
   "execution_count": 38,
   "id": "a9797dbd-467f-42ec-a1f5-96262a0617d4",
   "metadata": {},
   "outputs": [],
   "source": [
    "# Save File 'order_items_cleaned'\n",
    "order_items_clean.to_csv('blinkit_order_items_cleaned.csv',index = False)"
   ]
  },
  {
   "cell_type": "markdown",
   "id": "94431e30-3127-46dc-806e-4de249fc5408",
   "metadata": {},
   "source": [
    "<h2 style=\"color:skyblue; font-size:30px; font-weight:bold; background-color:#2a2a2a; padding:8px; border-radius:6px;\">\n",
    "4-\n",
    "📂 Customers Table\n",
    "</h2>\n",
    "\n",
    "\n",
    "<h1 style=\"color:lightGreen; font-size:25px; font-weight:bold; background-color:#1C1C1C;padding:10px; border-radius:8px;\">Exploring the Data</h1>\n"
   ]
  },
  {
   "cell_type": "code",
   "execution_count": 39,
   "id": "fcdf105b-c447-4dba-a003-c291480faa84",
   "metadata": {},
   "outputs": [
    {
     "data": {
      "text/html": [
       "<div>\n",
       "<style scoped>\n",
       "    .dataframe tbody tr th:only-of-type {\n",
       "        vertical-align: middle;\n",
       "    }\n",
       "\n",
       "    .dataframe tbody tr th {\n",
       "        vertical-align: top;\n",
       "    }\n",
       "\n",
       "    .dataframe thead th {\n",
       "        text-align: right;\n",
       "    }\n",
       "</style>\n",
       "<table border=\"1\" class=\"dataframe\">\n",
       "  <thead>\n",
       "    <tr style=\"text-align: right;\">\n",
       "      <th></th>\n",
       "      <th>customer_id</th>\n",
       "      <th>customer_name</th>\n",
       "      <th>email</th>\n",
       "      <th>phone</th>\n",
       "      <th>address</th>\n",
       "      <th>area</th>\n",
       "      <th>pincode</th>\n",
       "      <th>registration_date</th>\n",
       "      <th>customer_segment</th>\n",
       "      <th>total_orders</th>\n",
       "      <th>avg_order_value</th>\n",
       "    </tr>\n",
       "  </thead>\n",
       "  <tbody>\n",
       "    <tr>\n",
       "      <th>0</th>\n",
       "      <td>97475543</td>\n",
       "      <td>Niharika Nagi</td>\n",
       "      <td>ektataneja@example.org</td>\n",
       "      <td>912987579691</td>\n",
       "      <td>23, Nayar Path, Bihar Sharif-154625</td>\n",
       "      <td>Udupi</td>\n",
       "      <td>321865</td>\n",
       "      <td>2023-05-13</td>\n",
       "      <td>Premium</td>\n",
       "      <td>13</td>\n",
       "      <td>451.92</td>\n",
       "    </tr>\n",
       "    <tr>\n",
       "      <th>1</th>\n",
       "      <td>22077605</td>\n",
       "      <td>Megha Sachar</td>\n",
       "      <td>vedant45@example.com</td>\n",
       "      <td>915123179717</td>\n",
       "      <td>51/302, Buch Chowk\\nSrinagar-570271</td>\n",
       "      <td>Aligarh</td>\n",
       "      <td>149394</td>\n",
       "      <td>2024-06-18</td>\n",
       "      <td>Inactive</td>\n",
       "      <td>4</td>\n",
       "      <td>825.48</td>\n",
       "    </tr>\n",
       "    <tr>\n",
       "      <th>2</th>\n",
       "      <td>47822591</td>\n",
       "      <td>Hema Bahri</td>\n",
       "      <td>samiazaan@example.com</td>\n",
       "      <td>910034076149</td>\n",
       "      <td>941\\nAnne Street, Darbhanga 186125</td>\n",
       "      <td>Begusarai</td>\n",
       "      <td>621411</td>\n",
       "      <td>2024-09-25</td>\n",
       "      <td>Regular</td>\n",
       "      <td>17</td>\n",
       "      <td>1969.81</td>\n",
       "    </tr>\n",
       "    <tr>\n",
       "      <th>3</th>\n",
       "      <td>79726146</td>\n",
       "      <td>Zaitra Vig</td>\n",
       "      <td>ishanvi87@example.org</td>\n",
       "      <td>916264232390</td>\n",
       "      <td>43/94, Ghosh, Alappuzha 635655</td>\n",
       "      <td>Kozhikode</td>\n",
       "      <td>826054</td>\n",
       "      <td>2023-10-04</td>\n",
       "      <td>New</td>\n",
       "      <td>4</td>\n",
       "      <td>220.09</td>\n",
       "    </tr>\n",
       "    <tr>\n",
       "      <th>4</th>\n",
       "      <td>57102800</td>\n",
       "      <td>Januja Verma</td>\n",
       "      <td>atideshpande@example.org</td>\n",
       "      <td>917293526596</td>\n",
       "      <td>06\\nOm, Ambarnath 477463</td>\n",
       "      <td>Ichalkaranji</td>\n",
       "      <td>730539</td>\n",
       "      <td>2024-03-22</td>\n",
       "      <td>Inactive</td>\n",
       "      <td>14</td>\n",
       "      <td>578.14</td>\n",
       "    </tr>\n",
       "  </tbody>\n",
       "</table>\n",
       "</div>"
      ],
      "text/plain": [
       "   customer_id  customer_name                     email         phone  \\\n",
       "0     97475543  Niharika Nagi    ektataneja@example.org  912987579691   \n",
       "1     22077605   Megha Sachar      vedant45@example.com  915123179717   \n",
       "2     47822591     Hema Bahri     samiazaan@example.com  910034076149   \n",
       "3     79726146     Zaitra Vig     ishanvi87@example.org  916264232390   \n",
       "4     57102800   Januja Verma  atideshpande@example.org  917293526596   \n",
       "\n",
       "                               address          area  pincode  \\\n",
       "0  23, Nayar Path, Bihar Sharif-154625         Udupi   321865   \n",
       "1  51/302, Buch Chowk\\nSrinagar-570271       Aligarh   149394   \n",
       "2   941\\nAnne Street, Darbhanga 186125     Begusarai   621411   \n",
       "3       43/94, Ghosh, Alappuzha 635655     Kozhikode   826054   \n",
       "4             06\\nOm, Ambarnath 477463  Ichalkaranji   730539   \n",
       "\n",
       "  registration_date customer_segment  total_orders  avg_order_value  \n",
       "0        2023-05-13          Premium            13           451.92  \n",
       "1        2024-06-18         Inactive             4           825.48  \n",
       "2        2024-09-25          Regular            17          1969.81  \n",
       "3        2023-10-04              New             4           220.09  \n",
       "4        2024-03-22         Inactive            14           578.14  "
      ]
     },
     "execution_count": 39,
     "metadata": {},
     "output_type": "execute_result"
    }
   ],
   "source": [
    "customers.head(5)"
   ]
  },
  {
   "cell_type": "code",
   "execution_count": 40,
   "id": "7ab0ab40-800a-4bf9-945f-1f0ec5c035ac",
   "metadata": {
    "scrolled": true
   },
   "outputs": [
    {
     "name": "stdout",
     "output_type": "stream",
     "text": [
      "<class 'pandas.core.frame.DataFrame'>\n",
      "RangeIndex: 2500 entries, 0 to 2499\n",
      "Data columns (total 11 columns):\n",
      " #   Column             Non-Null Count  Dtype  \n",
      "---  ------             --------------  -----  \n",
      " 0   customer_id        2500 non-null   int64  \n",
      " 1   customer_name      2500 non-null   object \n",
      " 2   email              2500 non-null   object \n",
      " 3   phone              2500 non-null   int64  \n",
      " 4   address            2500 non-null   object \n",
      " 5   area               2500 non-null   object \n",
      " 6   pincode            2500 non-null   int64  \n",
      " 7   registration_date  2500 non-null   object \n",
      " 8   customer_segment   2500 non-null   object \n",
      " 9   total_orders       2500 non-null   int64  \n",
      " 10  avg_order_value    2500 non-null   float64\n",
      "dtypes: float64(1), int64(4), object(6)\n",
      "memory usage: 215.0+ KB\n"
     ]
    }
   ],
   "source": [
    "customers.info()"
   ]
  },
  {
   "cell_type": "code",
   "execution_count": 41,
   "id": "51b6be13-c01f-4719-9bec-ade665839781",
   "metadata": {},
   "outputs": [
    {
     "data": {
      "text/html": [
       "<div>\n",
       "<style scoped>\n",
       "    .dataframe tbody tr th:only-of-type {\n",
       "        vertical-align: middle;\n",
       "    }\n",
       "\n",
       "    .dataframe tbody tr th {\n",
       "        vertical-align: top;\n",
       "    }\n",
       "\n",
       "    .dataframe thead th {\n",
       "        text-align: right;\n",
       "    }\n",
       "</style>\n",
       "<table border=\"1\" class=\"dataframe\">\n",
       "  <thead>\n",
       "    <tr style=\"text-align: right;\">\n",
       "      <th></th>\n",
       "      <th>customer_id</th>\n",
       "      <th>phone</th>\n",
       "      <th>pincode</th>\n",
       "      <th>total_orders</th>\n",
       "      <th>avg_order_value</th>\n",
       "    </tr>\n",
       "  </thead>\n",
       "  <tbody>\n",
       "    <tr>\n",
       "      <th>count</th>\n",
       "      <td>2.500000e+03</td>\n",
       "      <td>2.500000e+03</td>\n",
       "      <td>2500.000000</td>\n",
       "      <td>2500.000000</td>\n",
       "      <td>2500.000000</td>\n",
       "    </tr>\n",
       "    <tr>\n",
       "      <th>mean</th>\n",
       "      <td>4.989961e+07</td>\n",
       "      <td>9.150532e+11</td>\n",
       "      <td>497653.183200</td>\n",
       "      <td>10.491600</td>\n",
       "      <td>1102.375836</td>\n",
       "    </tr>\n",
       "    <tr>\n",
       "      <th>std</th>\n",
       "      <td>2.919266e+07</td>\n",
       "      <td>2.882835e+09</td>\n",
       "      <td>281167.293249</td>\n",
       "      <td>5.805533</td>\n",
       "      <td>523.043183</td>\n",
       "    </tr>\n",
       "    <tr>\n",
       "      <th>min</th>\n",
       "      <td>3.181300e+04</td>\n",
       "      <td>9.100132e+11</td>\n",
       "      <td>666.000000</td>\n",
       "      <td>1.000000</td>\n",
       "      <td>200.430000</td>\n",
       "    </tr>\n",
       "    <tr>\n",
       "      <th>25%</th>\n",
       "      <td>2.402443e+07</td>\n",
       "      <td>9.125946e+11</td>\n",
       "      <td>257079.750000</td>\n",
       "      <td>6.000000</td>\n",
       "      <td>631.817500</td>\n",
       "    </tr>\n",
       "    <tr>\n",
       "      <th>50%</th>\n",
       "      <td>5.000044e+07</td>\n",
       "      <td>9.150236e+11</td>\n",
       "      <td>498662.000000</td>\n",
       "      <td>10.000000</td>\n",
       "      <td>1118.650000</td>\n",
       "    </tr>\n",
       "    <tr>\n",
       "      <th>75%</th>\n",
       "      <td>7.595459e+07</td>\n",
       "      <td>9.176256e+11</td>\n",
       "      <td>740668.000000</td>\n",
       "      <td>16.000000</td>\n",
       "      <td>1565.400000</td>\n",
       "    </tr>\n",
       "    <tr>\n",
       "      <th>max</th>\n",
       "      <td>9.989390e+07</td>\n",
       "      <td>9.199988e+11</td>\n",
       "      <td>999631.000000</td>\n",
       "      <td>20.000000</td>\n",
       "      <td>1999.830000</td>\n",
       "    </tr>\n",
       "  </tbody>\n",
       "</table>\n",
       "</div>"
      ],
      "text/plain": [
       "        customer_id         phone        pincode  total_orders  \\\n",
       "count  2.500000e+03  2.500000e+03    2500.000000   2500.000000   \n",
       "mean   4.989961e+07  9.150532e+11  497653.183200     10.491600   \n",
       "std    2.919266e+07  2.882835e+09  281167.293249      5.805533   \n",
       "min    3.181300e+04  9.100132e+11     666.000000      1.000000   \n",
       "25%    2.402443e+07  9.125946e+11  257079.750000      6.000000   \n",
       "50%    5.000044e+07  9.150236e+11  498662.000000     10.000000   \n",
       "75%    7.595459e+07  9.176256e+11  740668.000000     16.000000   \n",
       "max    9.989390e+07  9.199988e+11  999631.000000     20.000000   \n",
       "\n",
       "       avg_order_value  \n",
       "count      2500.000000  \n",
       "mean       1102.375836  \n",
       "std         523.043183  \n",
       "min         200.430000  \n",
       "25%         631.817500  \n",
       "50%        1118.650000  \n",
       "75%        1565.400000  \n",
       "max        1999.830000  "
      ]
     },
     "execution_count": 41,
     "metadata": {},
     "output_type": "execute_result"
    }
   ],
   "source": [
    "customers.describe()"
   ]
  },
  {
   "cell_type": "code",
   "execution_count": 42,
   "id": "73a531be-a944-4afc-9ee8-912c4503fd7c",
   "metadata": {},
   "outputs": [
    {
     "data": {
      "text/plain": [
       "customer_id          0\n",
       "customer_name        0\n",
       "email                0\n",
       "phone                0\n",
       "address              0\n",
       "area                 0\n",
       "pincode              0\n",
       "registration_date    0\n",
       "customer_segment     0\n",
       "total_orders         0\n",
       "avg_order_value      0\n",
       "dtype: int64"
      ]
     },
     "execution_count": 42,
     "metadata": {},
     "output_type": "execute_result"
    }
   ],
   "source": [
    "customers.isnull().sum()"
   ]
  },
  {
   "cell_type": "code",
   "execution_count": 43,
   "id": "fead77dd-5850-4cc5-b11e-21a7858cfd59",
   "metadata": {},
   "outputs": [
    {
     "data": {
      "text/plain": [
       "0"
      ]
     },
     "execution_count": 43,
     "metadata": {},
     "output_type": "execute_result"
    }
   ],
   "source": [
    "customers['customer_id'].duplicated().sum()"
   ]
  },
  {
   "cell_type": "markdown",
   "id": "fdf051a2-a36c-4b9e-8053-f6d73f5c1fb8",
   "metadata": {},
   "source": [
    "<h1 style=\"color:lightGreen; font-size:25px; font-weight:bold; background-color:#1C1C1C;padding:10px; border-radius:8px;\">Data Cleaning</h1>"
   ]
  },
  {
   "cell_type": "code",
   "execution_count": 44,
   "id": "11a614b7-73aa-4c35-b4e4-48faa148399b",
   "metadata": {},
   "outputs": [
    {
     "data": {
      "text/html": [
       "<div>\n",
       "<style scoped>\n",
       "    .dataframe tbody tr th:only-of-type {\n",
       "        vertical-align: middle;\n",
       "    }\n",
       "\n",
       "    .dataframe tbody tr th {\n",
       "        vertical-align: top;\n",
       "    }\n",
       "\n",
       "    .dataframe thead th {\n",
       "        text-align: right;\n",
       "    }\n",
       "</style>\n",
       "<table border=\"1\" class=\"dataframe\">\n",
       "  <thead>\n",
       "    <tr style=\"text-align: right;\">\n",
       "      <th></th>\n",
       "      <th>customer_id</th>\n",
       "      <th>customer_name</th>\n",
       "      <th>email</th>\n",
       "      <th>phone</th>\n",
       "      <th>address</th>\n",
       "      <th>area</th>\n",
       "      <th>pincode</th>\n",
       "      <th>registration_date</th>\n",
       "      <th>customer_segment</th>\n",
       "      <th>total_orders</th>\n",
       "      <th>avg_order_value</th>\n",
       "    </tr>\n",
       "  </thead>\n",
       "  <tbody>\n",
       "    <tr>\n",
       "      <th>0</th>\n",
       "      <td>97475543</td>\n",
       "      <td>Niharika Nagi</td>\n",
       "      <td>ektataneja@example.org</td>\n",
       "      <td>912987579691</td>\n",
       "      <td>23, Nayar Path, Bihar Sharif-154625</td>\n",
       "      <td>Udupi</td>\n",
       "      <td>321865</td>\n",
       "      <td>2023-05-13</td>\n",
       "      <td>Premium</td>\n",
       "      <td>13</td>\n",
       "      <td>451.92</td>\n",
       "    </tr>\n",
       "    <tr>\n",
       "      <th>1</th>\n",
       "      <td>22077605</td>\n",
       "      <td>Megha Sachar</td>\n",
       "      <td>vedant45@example.com</td>\n",
       "      <td>915123179717</td>\n",
       "      <td>51/302, Buch Chowk\\nSrinagar-570271</td>\n",
       "      <td>Aligarh</td>\n",
       "      <td>149394</td>\n",
       "      <td>2024-06-18</td>\n",
       "      <td>Inactive</td>\n",
       "      <td>4</td>\n",
       "      <td>825.48</td>\n",
       "    </tr>\n",
       "    <tr>\n",
       "      <th>2</th>\n",
       "      <td>47822591</td>\n",
       "      <td>Hema Bahri</td>\n",
       "      <td>samiazaan@example.com</td>\n",
       "      <td>910034076149</td>\n",
       "      <td>941\\nAnne Street, Darbhanga 186125</td>\n",
       "      <td>Begusarai</td>\n",
       "      <td>621411</td>\n",
       "      <td>2024-09-25</td>\n",
       "      <td>Regular</td>\n",
       "      <td>17</td>\n",
       "      <td>1969.81</td>\n",
       "    </tr>\n",
       "    <tr>\n",
       "      <th>3</th>\n",
       "      <td>79726146</td>\n",
       "      <td>Zaitra Vig</td>\n",
       "      <td>ishanvi87@example.org</td>\n",
       "      <td>916264232390</td>\n",
       "      <td>43/94, Ghosh, Alappuzha 635655</td>\n",
       "      <td>Kozhikode</td>\n",
       "      <td>826054</td>\n",
       "      <td>2023-10-04</td>\n",
       "      <td>New</td>\n",
       "      <td>4</td>\n",
       "      <td>220.09</td>\n",
       "    </tr>\n",
       "    <tr>\n",
       "      <th>4</th>\n",
       "      <td>57102800</td>\n",
       "      <td>Januja Verma</td>\n",
       "      <td>atideshpande@example.org</td>\n",
       "      <td>917293526596</td>\n",
       "      <td>06\\nOm, Ambarnath 477463</td>\n",
       "      <td>Ichalkaranji</td>\n",
       "      <td>730539</td>\n",
       "      <td>2024-03-22</td>\n",
       "      <td>Inactive</td>\n",
       "      <td>14</td>\n",
       "      <td>578.14</td>\n",
       "    </tr>\n",
       "  </tbody>\n",
       "</table>\n",
       "</div>"
      ],
      "text/plain": [
       "   customer_id  customer_name                     email         phone  \\\n",
       "0     97475543  Niharika Nagi    ektataneja@example.org  912987579691   \n",
       "1     22077605   Megha Sachar      vedant45@example.com  915123179717   \n",
       "2     47822591     Hema Bahri     samiazaan@example.com  910034076149   \n",
       "3     79726146     Zaitra Vig     ishanvi87@example.org  916264232390   \n",
       "4     57102800   Januja Verma  atideshpande@example.org  917293526596   \n",
       "\n",
       "                               address          area  pincode  \\\n",
       "0  23, Nayar Path, Bihar Sharif-154625         Udupi   321865   \n",
       "1  51/302, Buch Chowk\\nSrinagar-570271       Aligarh   149394   \n",
       "2   941\\nAnne Street, Darbhanga 186125     Begusarai   621411   \n",
       "3       43/94, Ghosh, Alappuzha 635655     Kozhikode   826054   \n",
       "4             06\\nOm, Ambarnath 477463  Ichalkaranji   730539   \n",
       "\n",
       "  registration_date customer_segment  total_orders  avg_order_value  \n",
       "0        2023-05-13          Premium            13           451.92  \n",
       "1        2024-06-18         Inactive             4           825.48  \n",
       "2        2024-09-25          Regular            17          1969.81  \n",
       "3        2023-10-04              New             4           220.09  \n",
       "4        2024-03-22         Inactive            14           578.14  "
      ]
     },
     "execution_count": 44,
     "metadata": {},
     "output_type": "execute_result"
    }
   ],
   "source": [
    "customers_clean = customers.copy()\n",
    "customers_clean.head(5)"
   ]
  },
  {
   "cell_type": "markdown",
   "id": "f0ff5192-2f2f-4e45-93e2-21942e466500",
   "metadata": {},
   "source": [
    "<ul style=\"color:#FF6347; font-weight:bold; background-color:#2F2F2F; padding:20px; border-radius:5px;\"><b> \n",
    "    <li>Data Type Conversion</li>\n",
    " </ul>"
   ]
  },
  {
   "cell_type": "markdown",
   "id": "7a5ca136-865b-4918-869c-34b3176c3a23",
   "metadata": {},
   "source": [
    "<h3 style=\"color:#FF6347; font-size:22px;\"> 1.Customer_id (From int to object)</h3>"
   ]
  },
  {
   "cell_type": "code",
   "execution_count": 45,
   "id": "ad07666f-5706-47c9-97a6-3ec0667270e4",
   "metadata": {},
   "outputs": [],
   "source": [
    "customers_clean['customer_id'] = customers_clean['customer_id'].astype('object')"
   ]
  },
  {
   "cell_type": "markdown",
   "id": "5786bf53-c812-4d66-aaee-cb7e93c8c5d4",
   "metadata": {},
   "source": [
    "<h3 style=\"color:#FF6347; font-size:22px;\"> 2.Phone (From int to object)</h3>"
   ]
  },
  {
   "cell_type": "code",
   "execution_count": 46,
   "id": "cae92468-76af-482b-8bc8-8b23200d74db",
   "metadata": {},
   "outputs": [],
   "source": [
    "customers_clean['phone'] = customers_clean['phone'].astype('object')"
   ]
  },
  {
   "cell_type": "markdown",
   "id": "ef7ffaca-68de-41cd-bcca-9f31eb5439d1",
   "metadata": {},
   "source": [
    "<h3 style=\"color:#FF6347; font-size:22px;\"> 3.pincode (From int to object)</h3>"
   ]
  },
  {
   "cell_type": "code",
   "execution_count": 47,
   "id": "62a41bad-146b-4a70-86da-09fa3b79af28",
   "metadata": {},
   "outputs": [],
   "source": [
    "customers_clean['pincode'] = customers_clean['pincode'].astype('object')"
   ]
  },
  {
   "cell_type": "markdown",
   "id": "d96f5f42-353a-4929-8252-606cb4dd1eb6",
   "metadata": {},
   "source": [
    "<h3 style=\"color:#FF6347; font-size:22px;\"> 4.registration_date (From object to Date Time)</h3>"
   ]
  },
  {
   "cell_type": "code",
   "execution_count": 48,
   "id": "2c78e521-b376-415e-a33c-1dc6c74f1d2d",
   "metadata": {},
   "outputs": [],
   "source": [
    "customers_clean['registration_date'] = pd.to_datetime(customers_clean['registration_date'])"
   ]
  },
  {
   "cell_type": "code",
   "execution_count": 49,
   "id": "87a1a76c-3b1e-45de-9cdd-1aaa2a55af49",
   "metadata": {},
   "outputs": [
    {
     "name": "stdout",
     "output_type": "stream",
     "text": [
      "<class 'pandas.core.frame.DataFrame'>\n",
      "RangeIndex: 2500 entries, 0 to 2499\n",
      "Data columns (total 11 columns):\n",
      " #   Column             Non-Null Count  Dtype         \n",
      "---  ------             --------------  -----         \n",
      " 0   customer_id        2500 non-null   object        \n",
      " 1   customer_name      2500 non-null   object        \n",
      " 2   email              2500 non-null   object        \n",
      " 3   phone              2500 non-null   object        \n",
      " 4   address            2500 non-null   object        \n",
      " 5   area               2500 non-null   object        \n",
      " 6   pincode            2500 non-null   object        \n",
      " 7   registration_date  2500 non-null   datetime64[ns]\n",
      " 8   customer_segment   2500 non-null   object        \n",
      " 9   total_orders       2500 non-null   int64         \n",
      " 10  avg_order_value    2500 non-null   float64       \n",
      "dtypes: datetime64[ns](1), float64(1), int64(1), object(8)\n",
      "memory usage: 215.0+ KB\n"
     ]
    }
   ],
   "source": [
    "customers_clean.info()"
   ]
  },
  {
   "cell_type": "code",
   "execution_count": 50,
   "id": "b98be059-31f3-4cbc-ae5c-67a048252986",
   "metadata": {},
   "outputs": [],
   "source": [
    "# Save File 'Customers_Cleaned'\n",
    "customers_clean.to_csv('blinkit_customers_cleaned.csv',index = False)"
   ]
  }
 ],
 "metadata": {
  "kernelspec": {
   "display_name": "Python 3 (ipykernel)",
   "language": "python",
   "name": "python3"
  },
  "language_info": {
   "codemirror_mode": {
    "name": "ipython",
    "version": 3
   },
   "file_extension": ".py",
   "mimetype": "text/x-python",
   "name": "python",
   "nbconvert_exporter": "python",
   "pygments_lexer": "ipython3",
   "version": "3.12.4"
  }
 },
 "nbformat": 4,
 "nbformat_minor": 5
}
